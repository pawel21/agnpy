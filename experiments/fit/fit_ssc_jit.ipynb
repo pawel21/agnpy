{
 "cells": [
  {
   "cell_type": "code",
   "execution_count": 1,
   "metadata": {},
   "outputs": [],
   "source": [
    "import numpy as np\n",
    "import astropy.units as u\n",
    "from astropy.coordinates import Distance\n",
    "from astropy.table import Table\n",
    "from sherpa.models import model\n",
    "from sherpa import data\n",
    "import matplotlib.pyplot as plt\n",
    "from sherpa.fit import Fit\n",
    "from sherpa.stats import Chi2\n",
    "from sherpa.optmethods import LevMar\n",
    "\n",
    "from agnpy.spectra import LogParabola\n"
   ]
  },
  {
   "cell_type": "code",
   "execution_count": 2,
   "metadata": {},
   "outputs": [],
   "source": [
    "# There is a lot of overlapping X-ray data, let us define a function to rebin the spectral points.\n",
    "# We'll just perform the mean of the flux points in a bin weighted with their errors.\n",
    "def rebin_sed(nu, nuFnu, nuFnu_err, nu_bins):\n",
    "    \"\"\"rebin the SED\"\"\"\n",
    "    nu_bins_ctr = []\n",
    "    nuFnu_binned = []\n",
    "    nuFnu_err_binned = []\n",
    "    for i in range(len(nu_bins) - 1):\n",
    "        nu_min, nu_max = nu_bins[i], nu_bins[i + 1]\n",
    "        # which points in this bin?\n",
    "        condition = (nu_min <= nu) * (nu <= nu_max)\n",
    "        # go to the next bin if there are no spectral points in this\n",
    "        if not np.any(condition):\n",
    "            continue\n",
    "        else:\n",
    "            y = nuFnu[condition]\n",
    "            y_err = nuFnu_err[condition]\n",
    "            y_new = np.sum(y / np.power(y_err, 2)) / np.sum(np.power(y_err, -2))\n",
    "            y_err_new = 1 / np.sqrt(np.sum(np.power(y_err, -2)))\n",
    "            nu_bins_ctr.append(np.sqrt(nu_min * nu_max))\n",
    "            nuFnu_binned.append(y_new)\n",
    "            nuFnu_err_binned.append(y_err_new)\n",
    "    return (\n",
    "        np.asarray(nu_bins_ctr),\n",
    "        np.asarray(nuFnu_binned),\n",
    "        np.asarray(nuFnu_err_binned),\n",
    "    )"
   ]
  },
  {
   "cell_type": "code",
   "execution_count": 3,
   "metadata": {},
   "outputs": [
    {
     "data": {
      "image/png": "[encoded data removed]",
      "text/plain": [
       "<Figure size 432x288 with 1 Axes>"
      ]
     },
     "metadata": {
      "needs_background": "light"
     },
     "output_type": "display_data"
    }
   ],
   "source": [
    "# read the 1D data\n",
    "sed_table = Table.read(\"data/sed_mrk421.ecsv\")\n",
    "x = sed_table[\"x\"]\n",
    "y = sed_table[\"y\"] \n",
    "y_err = sed_table[\"dy\"]\n",
    "# rebin\n",
    "nu_bins = np.logspace(9, 30, 60)\n",
    "x_new, y_new, y_err_new = rebin_sed(x, y, y_err, nu_bins)\n",
    "\n",
    "plt.errorbar(x, y, yerr=y_err, ls=\"\", marker=\".\", color=\"gray\", alpha=0.6)\n",
    "plt.errorbar(x_new, y_new, yerr=y_err_new, ls=\"\", marker=\"o\", color=\"k\")\n",
    "plt.yscale(\"log\")\n",
    "plt.xscale(\"log\")\n",
    "plt.show()"
   ]
  },
  {
   "cell_type": "code",
   "execution_count": 4,
   "metadata": {},
   "outputs": [
    {
     "name": "stdout",
     "output_type": "stream",
     "text": [
      "name      = sed\n",
      "x         = Float64[27]\n",
      "y         = Float64[27]\n",
      "staterror = Float64[27]\n",
      "syserror  = None\n"
     ]
    }
   ],
   "source": [
    "# load them in a sherpa data object\n",
    "sed = data.Data1D(\"sed\", x_new, y_new, staterror=y_err_new)\n",
    "print(sed)"
   ]
  },
  {
   "cell_type": "markdown",
   "metadata": {},
   "source": [
    "# Standard Fit"
   ]
  },
  {
   "cell_type": "code",
   "execution_count": 15,
   "metadata": {},
   "outputs": [],
   "source": [
    "from agnpy.synchrotron import Synchrotron\n",
    "from agnpy.compton import SynchrotronSelfCompton"
   ]
  },
  {
   "cell_type": "code",
   "execution_count": 13,
   "metadata": {},
   "outputs": [],
   "source": [
    "class LogParabolaSSC(model.RegriddableModel1D):\n",
    "    \"\"\"wrapper of agnpy.synchrotron\"\"\"\n",
    "\n",
    "    def __init__(self, name=\"lp_synch\"):\n",
    "        self.k_e = model.Parameter(name, \"k_e\", 1e-11, min=1e-15, max=1e-3)\n",
    "        self.p = model.Parameter(name, \"p\", 2.1, min=1.0, max=5.0)\n",
    "        self.q = model.Parameter(name, \"q\", 0.1, min=-2.0, max=2.0)\n",
    "        self.gamma_0 = model.Parameter(name, \"gamma_0\", 1e3, min=1e2, max=1e6)\n",
    "        self.gamma_min = model.Parameter(name, \"gamma_min\", 10, min=1, max=1e3)\n",
    "        self.gamma_max = model.Parameter(name, \"gamma_max\", 1e5, min=1e4, max=1e9)\n",
    "        self.z = model.Parameter(name, \"z\", 0.1, min=0.01, max=1)\n",
    "        self.d_L = model.Parameter(name, \"d_L\", 1e27, min=1e25, max=1e33)\n",
    "        self.delta_D = model.Parameter(name, \"delta_D\", 10, min=0, max=50)\n",
    "        self.B = model.Parameter(name, \"B\", 2, min=0.001, max=10)\n",
    "        self.R_b = model.Parameter(name, \"R_b\", 1e16, min=1e14, max=1e18)\n",
    "\n",
    "        model.RegriddableModel1D.__init__(self, name,\n",
    "                                          (self.k_e,\n",
    "                                           self.p,\n",
    "                                           self.q,\n",
    "                                           self.gamma_0,\n",
    "                                           self.gamma_min, self.gamma_max,\n",
    "                                           self.z, self.d_L, self.delta_D,\n",
    "                                           self.B, self.R_b))\n",
    "\n",
    "    def calc(self, pars, x):\n",
    "        \"\"\"Evaluate the model\"\"\"\n",
    "        (k_e, p, q, gamma_0, gamma_min, gamma_max,z, d_L, delta_D, B, R_b) = pars\n",
    "        # add units\n",
    "        k_e *= u.Unit(\"cm-3\")\n",
    "        d_L *= u.cm\n",
    "        B *= u.G\n",
    "        R_b *= u.cm\n",
    "        x *= u.Hz\n",
    "\n",
    "        sed_synch = Synchrotron.evaluate_sed_flux(\n",
    "            x, z,\n",
    "            d_L, delta_D,\n",
    "            B, R_b,\n",
    "            LogParabola, k_e, p, q,\n",
    "            gamma_0,\n",
    "            gamma_min, gamma_max\n",
    "        )\n",
    "\n",
    "        sed_ssc = SynchrotronSelfCompton.evaluate_sed_flux(\n",
    "            x, z,\n",
    "            d_L, delta_D,\n",
    "            B, R_b,\n",
    "            LogParabola, k_e, p, q,\n",
    "            gamma_0,\n",
    "            gamma_min, gamma_max\n",
    "        )\n",
    "        return sed_synch + sed_ssc\n",
    "\n",
    "    def get_params(self):\n",
    "        return (self.k_e, self.p, self.q,\n",
    "                self.gamma_0, self.gamma_min, self.gamma_max,\n",
    "                                           self.z, self.d_L, self.delta_D,\n",
    "                                           self.B, self.R_b)"
   ]
  },
  {
   "cell_type": "code",
   "execution_count": 16,
   "metadata": {},
   "outputs": [
    {
     "name": "stdout",
     "output_type": "stream",
     "text": [
      "lp_synch\n",
      "   Param        Type          Value          Min          Max      Units\n",
      "   -----        ----          -----          ---          ---      -----\n",
      "   lp_synch.k_e thawed        1e-11        1e-15        0.001           \n",
      "   lp_synch.p   thawed          2.1            1            5           \n",
      "   lp_synch.q   thawed          0.1           -2            2           \n",
      "   lp_synch.gamma_0 frozen        50000          100        1e+06           \n",
      "   lp_synch.gamma_min frozen           10            1         1000           \n",
      "   lp_synch.gamma_max frozen        1e+08        10000        1e+09           \n",
      "   lp_synch.z   frozen       0.0308         0.01            1           \n",
      "   lp_synch.d_L frozen  4.30448e+26        1e+25        1e+33           \n",
      "   lp_synch.delta_D frozen           21            0           50           \n",
      "   lp_synch.B   thawed            2        0.001           10           \n",
      "   lp_synch.R_b frozen        1e+15        1e+14        1e+18           \n",
      "data      = sed\n",
      "model     = lp_synch\n",
      "stat      = Chi2\n",
      "method    = LevMar\n",
      "estmethod = Covariance\n",
      "\n",
      "** fit succesful? True\n",
      "Method                = levmar\n",
      "Statistic             = chi2\n",
      "Initial fit statistic = 4.25943e+06\n",
      "Final fit statistic   = 57698.5 at function evaluation 313\n",
      "Data points           = 22\n",
      "Degrees of freedom    = 18\n",
      "Probability [Q-value] = 0\n",
      "Reduced statistic     = 3205.47\n",
      "Change in statistic   = 4.20173e+06\n",
      "   lp_synch.k_e   5.80086e-08  +/- 4.71691e-11 \n",
      "   lp_synch.p     4.01304      +/- 0           \n",
      "   lp_synch.q     0.675447     +/- 0.000199053 \n",
      "   lp_synch.B     9.99995      +/- 0           \n",
      "CPU times: user 33.8 s, sys: 8.76 s, total: 42.6 s\n",
      "Wall time: 42.5 s\n"
     ]
    }
   ],
   "source": [
    "%%time\n",
    "\n",
    "# define the model\n",
    "model_ssc = LogParabolaSSC()\n",
    "#model_ssc = LogParabolaSSCJit()\n",
    "# freeze some of the parameters\n",
    "R_b = 1e15 * u.cm\n",
    "z = 0.0308\n",
    "d_L = Distance(z=z).to(\"cm\")\n",
    "# load the fixed parameters and freeze them\n",
    "model_ssc.delta_D = 21\n",
    "model_ssc.delta_D.freeze()\n",
    "model_ssc.z = z\n",
    "model_ssc.z.freeze()\n",
    "model_ssc.d_L = d_L.cgs.value\n",
    "model_ssc.d_L.freeze()\n",
    "model_ssc.R_b = R_b.cgs.value\n",
    "model_ssc.R_b.freeze()\n",
    "model_ssc.gamma_0 = 5e4\n",
    "model_ssc.gamma_0.freeze()\n",
    "model_ssc.gamma_min = 10\n",
    "model_ssc.gamma_min.freeze()\n",
    "model_ssc.gamma_max = 1e8\n",
    "model_ssc.gamma_max.freeze()\n",
    "print(model_ssc)\n",
    "\n",
    "# fit!\n",
    "fitter = Fit(sed, model_ssc, stat=Chi2(), method=LevMar())\n",
    "min_x = 1e15\n",
    "max_x = 1e30\n",
    "sed.notice(min_x, max_x)\n",
    "print(fitter)\n",
    "res = fitter.fit()\n",
    "print(\"\\n** fit succesful?\", res.succeeded)\n",
    "print(res.format())"
   ]
  },
  {
   "cell_type": "code",
   "execution_count": 17,
   "metadata": {},
   "outputs": [
    {
     "data": {
      "image/png": "[encoded data removed]",
      "text/plain": [
       "<Figure size 432x288 with 1 Axes>"
      ]
     },
     "metadata": {
      "needs_background": "light"
     },
     "output_type": "display_data"
    }
   ],
   "source": [
    "# plot the results\n",
    "x = np.logspace(np.log10(min_x), np.log10(max_x), 200)\n",
    "plt.errorbar(sed.x, sed.y, yerr=sed.staterror, marker=\"o\", ls=\"\", color=\"k\")\n",
    "plt.plot(x, model_ssc(x), ls=\"-\", color=\"crimson\")\n",
    "plt.xscale(\"log\")\n",
    "plt.yscale(\"log\")\n",
    "plt.show()"
   ]
  },
  {
   "cell_type": "markdown",
   "metadata": {},
   "source": [
    "# Fit with Jit"
   ]
  },
  {
   "cell_type": "code",
   "execution_count": 5,
   "metadata": {},
   "outputs": [],
   "source": [
    "from agnpy.synchrotron.synchrotron_jit import SynchrotronJit\n",
    "from agnpy.compton import SynchrotronSelfComptonJit"
   ]
  },
  {
   "cell_type": "code",
   "execution_count": 6,
   "metadata": {},
   "outputs": [],
   "source": [
    "class LogParabolaSSCJit(model.RegriddableModel1D):\n",
    "    \"\"\"wrapper of agnpy.synchrotron\"\"\"\n",
    "\n",
    "    def __init__(self, name=\"lp_synch\"):\n",
    "        self.k_e = model.Parameter(name, \"k_e\", 1e-11, min=1e-15, max=1e-3)\n",
    "        self.p = model.Parameter(name, \"p\", 2.1, min=1.0, max=5.0)\n",
    "        self.q = model.Parameter(name, \"q\", 0.1, min=-2.0, max=2.0)\n",
    "        self.gamma_0 = model.Parameter(name, \"gamma_0\", 1e3, min=1e2, max=1e6)\n",
    "        self.gamma_min = model.Parameter(name, \"gamma_min\", 10, min=1, max=1e3)\n",
    "        self.gamma_max = model.Parameter(name, \"gamma_max\", 1e5, min=1e4, max=1e9)\n",
    "        self.z = model.Parameter(name, \"z\", 0.1, min=0.01, max=1)\n",
    "        self.d_L = model.Parameter(name, \"d_L\", 1e27, min=1e25, max=1e33)\n",
    "        self.delta_D = model.Parameter(name, \"delta_D\", 10, min=0, max=50)\n",
    "        self.B = model.Parameter(name, \"B\", 2, min=0.001, max=10)\n",
    "        self.R_b = model.Parameter(name, \"R_b\", 1e16, min=1e14, max=1e18)\n",
    "\n",
    "        model.RegriddableModel1D.__init__(self, name,\n",
    "                                          (self.k_e,\n",
    "                                           self.p,\n",
    "                                           self.q,\n",
    "                                           self.gamma_0,\n",
    "                                           self.gamma_min, self.gamma_max,\n",
    "                                           self.z, self.d_L, self.delta_D,\n",
    "                                           self.B, self.R_b))\n",
    "\n",
    "    def calc(self, pars, x):\n",
    "        \"\"\"Evaluate the model\"\"\"\n",
    "        (k_e, p, q, gamma_0, gamma_min, gamma_max,z, d_L, delta_D, B, R_b) = pars\n",
    "        # add units\n",
    "        k_e *= u.Unit(\"cm-3\")\n",
    "        d_L *= u.cm\n",
    "        B *= u.G\n",
    "        R_b *= u.cm\n",
    "        x *= u.Hz\n",
    "\n",
    "        sed_synch = SynchrotronJit.evaluate_sed_flux(\n",
    "            x, z,\n",
    "            d_L, delta_D,\n",
    "            B, R_b,\n",
    "            LogParabola, k_e, p, q,\n",
    "            gamma_0,\n",
    "            gamma_min, gamma_max\n",
    "        )\n",
    "\n",
    "        sed_ssc = SynchrotronSelfComptonJit.evaluate_sed_flux(\n",
    "            x, z,\n",
    "            d_L, delta_D,\n",
    "            B, R_b,\n",
    "            LogParabola, k_e, p, q,\n",
    "            gamma_0,\n",
    "            gamma_min, gamma_max\n",
    "        )\n",
    "        return sed_synch + sed_ssc\n",
    "\n",
    "    def get_params(self):\n",
    "        return (self.k_e, self.p, self.q,\n",
    "                self.gamma_0, self.gamma_min, self.gamma_max,\n",
    "                                           self.z, self.d_L, self.delta_D,\n",
    "                                           self.B, self.R_b)"
   ]
  },
  {
   "cell_type": "code",
   "execution_count": 10,
   "metadata": {},
   "outputs": [
    {
     "name": "stdout",
     "output_type": "stream",
     "text": [
      "lp_synch\n",
      "   Param        Type          Value          Min          Max      Units\n",
      "   -----        ----          -----          ---          ---      -----\n",
      "   lp_synch.k_e thawed        1e-11        1e-15        0.001           \n",
      "   lp_synch.p   thawed          2.1            1            5           \n",
      "   lp_synch.q   thawed          0.1           -2            2           \n",
      "   lp_synch.gamma_0 frozen        50000          100        1e+06           \n",
      "   lp_synch.gamma_min frozen           10            1         1000           \n",
      "   lp_synch.gamma_max frozen        1e+08        10000        1e+09           \n",
      "   lp_synch.z   frozen       0.0308         0.01            1           \n",
      "   lp_synch.d_L frozen  4.30448e+26        1e+25        1e+33           \n",
      "   lp_synch.delta_D frozen           21            0           50           \n",
      "   lp_synch.B   thawed            2        0.001           10           \n",
      "   lp_synch.R_b frozen        1e+15        1e+14        1e+18           \n",
      "data      = sed\n",
      "model     = lp_synch\n",
      "stat      = Chi2\n",
      "method    = LevMar\n",
      "estmethod = Covariance\n",
      "\n",
      "** fit succesful? True\n",
      "Method                = levmar\n",
      "Statistic             = chi2\n",
      "Initial fit statistic = 4.25943e+06\n",
      "Final fit statistic   = 57698.5 at function evaluation 313\n",
      "Data points           = 22\n",
      "Degrees of freedom    = 18\n",
      "Probability [Q-value] = 0\n",
      "Reduced statistic     = 3205.47\n",
      "Change in statistic   = 4.20173e+06\n",
      "   lp_synch.k_e   5.80086e-08  +/- 4.71691e-11 \n",
      "   lp_synch.p     4.01304      +/- 0           \n",
      "   lp_synch.q     0.675447     +/- 0.000199053 \n",
      "   lp_synch.B     9.99995      +/- 0           \n",
      "CPU times: user 16.6 s, sys: 3.94 s, total: 20.5 s\n",
      "Wall time: 20.5 s\n"
     ]
    }
   ],
   "source": [
    "%%time \n",
    "\n",
    "# define the model\n",
    "model_ssc_jit = LogParabolaSSCJit()\n",
    "#model_ssc = LogParabolaSSCJit()\n",
    "# freeze some of the parameters\n",
    "R_b = 1e15 * u.cm\n",
    "z = 0.0308\n",
    "d_L = Distance(z=z).to(\"cm\")\n",
    "# load the fixed parameters and freeze them\n",
    "model_ssc_jit.delta_D = 21\n",
    "model_ssc_jit.delta_D.freeze()\n",
    "model_ssc_jit.z = z\n",
    "model_ssc_jit.z.freeze()\n",
    "model_ssc_jit.d_L = d_L.cgs.value\n",
    "model_ssc_jit.d_L.freeze()\n",
    "model_ssc_jit.R_b = R_b.cgs.value\n",
    "model_ssc_jit.R_b.freeze()\n",
    "model_ssc_jit.gamma_0 = 5e4\n",
    "model_ssc_jit.gamma_0.freeze()\n",
    "model_ssc_jit.gamma_min = 10\n",
    "model_ssc_jit.gamma_min.freeze()\n",
    "model_ssc_jit.gamma_max = 1e8\n",
    "model_ssc_jit.gamma_max.freeze()\n",
    "print(model_ssc_jit)\n",
    "\n",
    "\n",
    "# fit!\n",
    "fitter = Fit(sed, model_ssc_jit, stat=Chi2(), method=LevMar())\n",
    "min_x = 1e15\n",
    "max_x = 1e30\n",
    "sed.notice(min_x, max_x)\n",
    "print(fitter)\n",
    "res = fitter.fit()\n",
    "print(\"\\n** fit succesful?\", res.succeeded)\n",
    "print(res.format())"
   ]
  },
  {
   "cell_type": "code",
   "execution_count": 11,
   "metadata": {},
   "outputs": [
    {
     "data": {
      "image/png": "[encoded data removed]",
      "text/plain": [
       "<Figure size 432x288 with 1 Axes>"
      ]
     },
     "metadata": {
      "needs_background": "light"
     },
     "output_type": "display_data"
    }
   ],
   "source": [
    "# plot the results\n",
    "x = np.logspace(np.log10(min_x), np.log10(max_x), 200)\n",
    "plt.errorbar(sed.x, sed.y, yerr=sed.staterror, marker=\"o\", ls=\"\", color=\"k\")\n",
    "plt.plot(x, model_ssc_jit(x), ls=\"-\", color=\"crimson\")\n",
    "plt.xscale(\"log\")\n",
    "plt.yscale(\"log\")\n",
    "plt.show()"
   ]
  },
  {
   "cell_type": "code",
   "execution_count": null,
   "metadata": {},
   "outputs": [],
   "source": []
  }
 ],
 "metadata": {
  "kernelspec": {
   "display_name": "Python 3",
   "language": "python",
   "name": "python3"
  },
  "language_info": {
   "codemirror_mode": {
    "name": "ipython",
    "version": 3
   },
   "file_extension": ".py",
   "mimetype": "text/x-python",
   "name": "python",
   "nbconvert_exporter": "python",
   "pygments_lexer": "ipython3",
   "version": "3.7.0"
  }
 },
 "nbformat": 4,
 "nbformat_minor": 4
}
