{
 "cells": [
  {
   "cell_type": "markdown",
   "metadata": {},
   "source": [
    "# fitting a broadband spectrum of PKS1510-089 with sherpa"
   ]
  },
  {
   "cell_type": "code",
   "execution_count": 1,
   "metadata": {},
   "outputs": [],
   "source": [
    "import sys\n",
    "#sys.path.append(\"../../agnpy_js/\")\n",
    "sys.path.append(\"../../\")\n",
    "import numpy as np\n",
    "import astropy.units as u\n",
    "from astropy.coordinates import Distance\n",
    "from astropy.table import Table\n",
    "from agnpy.spectra import LogParabola, BrokenPowerLaw\n",
    "from agnpy.synchrotron import Synchrotron\n",
    "from agnpy.compton import SynchrotronSelfCompton, ExternalCompton\n",
    "from sherpa.models import model\n",
    "from sherpa import data\n",
    "import matplotlib.pyplot as plt\n",
    "from sherpa.fit import Fit\n",
    "from sherpa.stats import Chi2\n",
    "from sherpa.optmethods import LevMar\n",
    "import pandas as pd\n",
    "\n",
    "from agnpy.emission_regions import Blob\n",
    "from agnpy.compton import ExternalCompton\n",
    "from agnpy.targets import SSDisk, RingDustTorus\n",
    "from astropy.constants import k_B, m_e,c, M_sun\n",
    "mec2 = m_e.to(\"erg\", equivalencies=u.mass_energy())"
   ]
  },
  {
   "cell_type": "markdown",
   "metadata": {},
   "source": [
    "### sherpa wrapper of agnpy synchrotron"
   ]
  },
  {
   "cell_type": "code",
   "execution_count": 2,
   "metadata": {},
   "outputs": [
    {
     "data": {
      "image/png": "[encoded data removed]",
      "text/plain": [
       "<Figure size 432x288 with 1 Axes>"
      ]
     },
     "metadata": {
      "needs_background": "light"
     },
     "output_type": "display_data"
    }
   ],
   "source": [
    "# read the PKS 1510-089 2015 \"period B\" spectrum\n",
    "sed_table = pd.read_csv('../../agnpy/data/mwl_seds/pks1510_2015.txt', sep=r'\\s+') #, header = None\n",
    "evtoHz=u.eV.to(\"Hz\", equivalencies=u.spectral())\n",
    "tevtoerg= u.TeV.to(\"erg\")\n",
    "\n",
    "x = sed_table.iloc[:,0].values*evtoHz\n",
    "y = sed_table.iloc[:,1].values *tevtoerg\n",
    "y_err = sed_table.iloc[:,2].values*tevtoerg\n",
    "\n",
    "plt.errorbar(x, y, yerr=y_err, ls=\"\", marker=\".\", color=\"k\", alpha=0.6)\n",
    "plt.yscale(\"log\")\n",
    "plt.xscale(\"log\")\n",
    "plt.show()"
   ]
  },
  {
   "cell_type": "code",
   "execution_count": 3,
   "metadata": {},
   "outputs": [
    {
     "name": "stdout",
     "output_type": "stream",
     "text": [
      "name      = sed\n",
      "x         = Float64[43]\n",
      "y         = Float64[43]\n",
      "staterror = Float64[43]\n",
      "syserror  = None\n"
     ]
    }
   ],
   "source": [
    "# load them in a sherpa data object\n",
    "sed = data.Data1D(\"sed\", x, y, staterror=y_err)\n",
    "print(sed)"
   ]
  },
  {
   "cell_type": "code",
   "execution_count": 4,
   "metadata": {},
   "outputs": [],
   "source": [
    "#global parameters\n",
    "T_dt=1.e3*u.K\n",
    "z = 0.361\n",
    "d_L = Distance(z=z).to(\"cm\") \n",
    "#Gamma_jet=20\n",
    "#delta_D=25\n",
    "Gamma_jet=20\n",
    "delta_D=20\n",
    "alpha_jet=1/Gamma_jet # opening angle \n",
    "L_disk=6.7e45*u.Unit(\"erg s-1\") # disk luminosity\n",
    "xi_dt=0.6   # fraction of luminosity in DT\n",
    "R_dt=6.47e18*u.cm  # radius of DT\n",
    "r=6e17*u.cm # location of the emission region\n",
    "\n",
    "beta = np.sqrt(1 - 1 / np.power(Gamma_jet, 2))\n",
    "mu_s = (1 - 1 / (Gamma_jet * delta_D)) / beta # viewing angle\n",
    "\n",
    "#R_b = 2.8e16 * u.cm # blob radius\n",
    "#R_b = r*alpha_jet\n",
    "#t_var = R_b/(delta_D*c)\n",
    "#print (\"t_var = \", t_var.to(\"day\"))"
   ]
  },
  {
   "cell_type": "code",
   "execution_count": 5,
   "metadata": {},
   "outputs": [],
   "source": [
    "class BrokenPowerLawDT_SSC(model.RegriddableModel1D):\n",
    "    \"\"\"wrapper\"\"\"\n",
    "    def __init__(self, name=\"bpwl_ec\"):\n",
    "        # EED parameters\n",
    "        self.log_k_e = model.Parameter(name, \"log_k_e\", -1., min=-5., max=1.)\n",
    "        self.p1 = model.Parameter(name, \"p1\", 2.1, min=1.0, max=5.0)\n",
    "        self.deltap1 = model.Parameter(name, \"deltap1\", 1., min=0.0, max=5.0)\n",
    "        self.log_gamma_b = model.Parameter(name, \"log_gamma_b\", 3., min=1., max=6.) \n",
    "        self.log_gamma_min = model.Parameter(name, \"log_gamma_min\", 1., min=0., max=4.)\n",
    "        self.log_gamma_max = model.Parameter(name, \"log_gamma_max\", 5., min=3., max=8.)\n",
    "        \n",
    "        # source general parameters \n",
    "        self.z = model.Parameter(name, \"z\", 0.1, min=0.01, max=1)\n",
    "        self.d_L = model.Parameter(name, \"d_L\", 1e27, min=1e25, max=1e33)\n",
    "        \n",
    "        #emission region parameters \n",
    "        self.delta_D = model.Parameter(name, \"delta_D\", 10, min=1, max=50)        \n",
    "        self.mu_s = model.Parameter(name, \"mu_s\", 0.9, min=0.0, max=1.0)\n",
    "        self.log_B = model.Parameter(name, \"log_B\", 0., min=-3., max=1.)\n",
    "        #self.log_R_b = model.Parameter(name, \"log_R_b\", 16., min=14., max=19.)\n",
    "        self.alpha_jet = model.Parameter(name, \"alpha_jet\", 0.05, min=0.0, max=1.1)\n",
    "        self.log_r = model.Parameter(name, \"log_r\", 17., min=16., max=20.)\n",
    "\n",
    "        # DT parameters\n",
    "        self.log_L_disk = model.Parameter(name, \"log_L_disk\", 45., min=42., max=48.)\n",
    "        self.xi_dt = model.Parameter(name, \"xi_dt\", 0.6, min=0.0, max=1.0)\n",
    "        self.T_dt = model.Parameter(name, \"T_dt\", 1.e3, min=1.e2, max=1.e4)\n",
    "        self.R_dt = model.Parameter(name, \"R_dt\", 2.5e18, min=1.e17, max=1.e19)\n",
    "        \n",
    "        model.RegriddableModel1D.__init__(self, name,\n",
    "                                          (self.log_k_e, self.p1, self.deltap1, \n",
    "                                           self.log_gamma_b, self.log_gamma_min, self.log_gamma_max, \n",
    "                                           self.z, self.d_L, \n",
    "                                           self.delta_D, self.mu_s, self.log_B, self.alpha_jet, self.log_r, \n",
    "                                           self.log_L_disk, self.xi_dt, self.T_dt, self.R_dt))\n",
    "    def calc(self, pars, x):\n",
    "        \"\"\"Evaluate the model\"\"\"\n",
    "        (log_k_e, p1, deltap1, log_gamma_b, log_gamma_min, log_gamma_max,z, d_L, \n",
    "         delta_D, mu_s, log_B, log_R_b,log_r,log_L_disk, xi_dt, T_dt, R_dt) = pars\n",
    "        # add units\n",
    "        k_e = 10**log_k_e*u.Unit(\"cm-3\")\n",
    "        gamma_b=10**log_gamma_b\n",
    "        gamma_min=10**log_gamma_min\n",
    "        gamma_max=10**log_gamma_max\n",
    "        d_L *= u.cm\n",
    "        B = 10**log_B*u.G\n",
    "        #R_b = 10**log_R_b * u.cm\n",
    "        x *= u.Hz\n",
    "        p2=p1+deltap1\n",
    "        L_disk=10**log_L_disk*u.Unit(\"erg s-1\")\n",
    "        R_dt*=u.cm\n",
    "        T_dt*=u.K\n",
    "        r=10**log_r*u.cm\n",
    "        R_b=r*alpha_jet\n",
    "        \n",
    "        eps_dt = 2.7 * (k_B * T_dt / mec2).to_value(\"\")\n",
    "        sed_synch = Synchrotron.evaluate_sed_flux(\n",
    "            x, z, d_L, delta_D, B, R_b, BrokenPowerLaw, k_e, p1, p2, gamma_b, gamma_min, gamma_max, ssa=True\n",
    "        )\n",
    "        sed_ssc = SynchrotronSelfCompton.evaluate_sed_flux(\n",
    "            x, z, d_L, delta_D, B, R_b, BrokenPowerLaw, k_e, p1, p2, gamma_b, gamma_min, gamma_max\n",
    "        )\n",
    "        sed_dt = ExternalCompton.evaluate_sed_flux_dt(\n",
    "            x, z, d_L, delta_D, mu_s, R_b, L_disk, xi_dt, eps_dt, R_dt, r, BrokenPowerLaw, k_e, p1, p2, gamma_b, gamma_min, gamma_max\n",
    "        )\n",
    "        return sed_synch + sed_ssc + sed_dt"
   ]
  },
  {
   "cell_type": "code",
   "execution_count": 6,
   "metadata": {},
   "outputs": [
    {
     "name": "stdout",
     "output_type": "stream",
     "text": [
      "bpwl_ec\n",
      "   Param        Type          Value          Min          Max      Units\n",
      "   -----        ----          -----          ---          ---      -----\n",
      "   bpwl_ec.log_k_e thawed           -1           -5            1           \n",
      "   bpwl_ec.p1   thawed          2.1            1            5           \n",
      "   bpwl_ec.deltap1 thawed            1            0            5           \n",
      "   bpwl_ec.log_gamma_b thawed      2.17609            1            6           \n",
      "   bpwl_ec.log_gamma_min thawed            1            0            4           \n",
      "   bpwl_ec.log_gamma_max thawed      4.60206            3            8           \n",
      "   bpwl_ec.z    frozen        0.361         0.01            1           \n",
      "   bpwl_ec.d_L  frozen  6.12502e+27        1e+25        1e+33           \n",
      "   bpwl_ec.delta_D frozen           20            1           50           \n",
      "   bpwl_ec.mu_s frozen     0.998749            0            1           \n",
      "   bpwl_ec.log_B thawed            0           -3            1           \n",
      "   bpwl_ec.alpha_jet frozen         0.05            0          1.1           \n",
      "   bpwl_ec.log_r thawed           17           16           20           \n",
      "   bpwl_ec.log_L_disk frozen      45.8261           42           48           \n",
      "   bpwl_ec.xi_dt frozen          0.6            0            1           \n",
      "   bpwl_ec.T_dt frozen         1000          100        10000           \n",
      "   bpwl_ec.R_dt frozen     6.47e+18        1e+17        1e+19           \n"
     ]
    }
   ],
   "source": [
    "# define the model\n",
    "model = BrokenPowerLawDT_SSC()\n",
    "\n",
    "\n",
    "gamma_min=10\n",
    "\n",
    "# EED parameters\n",
    "model.log_k_e=np.log10(0.1)\n",
    "model.log_gamma_b = np.log10(150)\n",
    "model.log_gamma_min = np.log10(gamma_min)\n",
    "#model.log_gamma_min.freeze()\n",
    "model.log_gamma_max = np.log10(4e4)\n",
    "\n",
    "\n",
    "# source general parameters \n",
    "model.z = z\n",
    "model.z.freeze()\n",
    "model.d_L = d_L.cgs.value\n",
    "model.d_L.freeze()\n",
    "\n",
    "# emission region parameters\n",
    "model.delta_D = delta_D\n",
    "model.delta_D.freeze()\n",
    "model.mu_s=mu_s\n",
    "model.mu_s.freeze()\n",
    "\n",
    "#model.log_R_b = np.log10(R_b.cgs.value)\n",
    "#model.log_R_b.freeze()\n",
    "model.alpha_jet=alpha_jet\n",
    "model.alpha_jet.freeze()\n",
    "\n",
    "model.log_L_disk=np.log10((L_disk.to(\"erg s-1\")).value)\n",
    "model.log_L_disk.freeze()\n",
    "model.xi_dt=0.6\n",
    "model.xi_dt.freeze()\n",
    "model.T_dt=T_dt.to(\"K\").value\n",
    "model.T_dt.freeze()\n",
    "model.R_dt=R_dt.to(\"cm\").value\n",
    "model.R_dt.freeze()\n",
    "\n",
    "print(model)"
   ]
  },
  {
   "cell_type": "code",
   "execution_count": 7,
   "metadata": {},
   "outputs": [
    {
     "name": "stdout",
     "output_type": "stream",
     "text": [
      "data      = sed\n",
      "model     = bpwl_ec\n",
      "stat      = Chi2\n",
      "method    = LevMar\n",
      "estmethod = Covariance\n",
      "\n",
      "** fit succesful? True\n",
      "Method                = levmar\n",
      "Statistic             = chi2\n",
      "Initial fit statistic = 1.63178e+06\n",
      "Final fit statistic   = 7366.97 at function evaluation 977\n",
      "Data points           = 43\n",
      "Degrees of freedom    = 35\n",
      "Probability [Q-value] = 0\n",
      "Reduced statistic     = 210.485\n",
      "Change in statistic   = 1.62441e+06\n",
      "   bpwl_ec.log_k_e   -1.49648     +/- 0.448467    \n",
      "   bpwl_ec.p1     1.43095      +/- 0.491174    \n",
      "   bpwl_ec.deltap1   1.94456      +/- 0.489145    \n",
      "   bpwl_ec.log_gamma_b   2.9548       +/- 0.134835    \n",
      "   bpwl_ec.log_gamma_min   0.890948     +/- 0           \n",
      "   bpwl_ec.log_gamma_max   4.62403      +/- 0           \n",
      "   bpwl_ec.log_B   -0.45354     +/- 0.0225065   \n",
      "   bpwl_ec.log_r   17.7439      +/- 0.0190161   \n",
      "CPU times: user 1min 50s, sys: 8.95 s, total: 1min 59s\n",
      "Wall time: 1min 59s\n"
     ]
    }
   ],
   "source": [
    "%%time\n",
    "# fit!\n",
    "fitter = Fit(sed, model, stat=Chi2(), method=LevMar())\n",
    "min_x = 1e10\n",
    "max_x = 1e27\n",
    "sed.notice(min_x, max_x)\n",
    "print(fitter)\n",
    "res = fitter.fit()\n",
    "print(\"\\n** fit succesful?\", res.succeeded)\n",
    "print(res.format())"
   ]
  },
  {
   "cell_type": "code",
   "execution_count": 8,
   "metadata": {},
   "outputs": [
    {
     "data": {
      "image/png": "[encoded data removed]",
      "text/plain": [
       "<Figure size 432x288 with 1 Axes>"
      ]
     },
     "metadata": {
      "needs_background": "light"
     },
     "output_type": "display_data"
    }
   ],
   "source": [
    "# plot the results\n",
    "x = np.logspace(np.log10(min_x), np.log10(max_x), 200)\n",
    "plt.errorbar(sed.x, sed.y, yerr=sed.staterror, marker=\"o\", ls=\"\", color=\"k\")\n",
    "plt.plot(x, model(x), ls=\"-\", color=\"crimson\")\n",
    "plt.xscale(\"log\")\n",
    "plt.yscale(\"log\")\n",
    "plt.ylim(1e-16, 1e-8)\n",
    "plt.show()"
   ]
  },
  {
   "cell_type": "markdown",
   "metadata": {},
   "source": [
    "### draw individual components"
   ]
  },
  {
   "cell_type": "code",
   "execution_count": 9,
   "metadata": {},
   "outputs": [
    {
     "name": "stdout",
     "output_type": "stream",
     "text": [
      "{'log_k_e': -1.4964756338100516, 'p1': 1.4309463142719197, 'deltap1': 1.9445573770504647, 'log_gamma_b': 2.9548036089006, 'log_gamma_min': 0.8909482191992849, 'log_gamma_max': 4.624029424511329, 'log_B': -0.45354040962719017, 'log_r': 17.74386420334784}\n",
      "* spherical emission region\n",
      " - R_b (radius of the blob): 2.77e+16 cm\n",
      " - V_b (volume of the blob): 8.92e+49 cm3\n",
      " - z (source redshift): 0.36\n",
      " - d_L (source luminosity distance):6.13e+27 cm\n",
      " - delta_D (blob Doppler factor): 2.00e+01\n",
      " - Gamma (blob Lorentz factor): 2.00e+01\n",
      " - Beta (blob relativistic velocity): 9.99e-01\n",
      " - theta_s (jet viewing angle): 2.87e+00 deg\n",
      " - B (magnetic field tangled to the jet): 3.52e-01 G\n",
      "* electron spectrum\n",
      " - broken power law\n",
      " - k_e: 3.19e-02 1 / cm3\n",
      " - p1: 1.43\n",
      " - p2: 3.38\n",
      " - gamma_b: 9.01e+02\n",
      " - gamma_min: 7.78e+00\n",
      " - gamma_max: 4.21e+04\n",
      "\n",
      "* Ring Dust Torus:\n",
      " - L_disk (accretion disk luminosity): 6.70e+45 erg / s\n",
      " - xi_dt (fraction of the disk radiation reprocessed by the torus): 6.00e-01\n",
      " - T_dt (temperature of the dust torus): 1.00e+03 K\n",
      " - R_dt (radius of the torus): 6.47e+18 cm\n",
      "\n"
     ]
    }
   ],
   "source": [
    "pars2=dict(zip(res.parnames, res.parvals))\n",
    "pars= { k.replace('bpwl_ec.', ''): v for k, v in pars2.items() }\n",
    "print(pars)\n",
    "k_e = 10**pars['log_k_e']*u.Unit(\"cm-3\")\n",
    "B = 10**pars['log_B']*u.G\n",
    "p1=pars['p1']\n",
    "p2=p1+pars['deltap1']\n",
    "gamma_b = 10**pars['log_gamma_b']\n",
    "gamma_max = 10**pars['log_gamma_max']\n",
    "gamma_min = 10**pars['log_gamma_min']\n",
    "r = 10**pars['log_r']*u.cm\n",
    "R_b=r*alpha_jet\n",
    "\n",
    "parameters = {\n",
    "    \"p1\": p1,\n",
    "    \"p2\": p2,\n",
    "    \"gamma_b\": gamma_b,\n",
    "    \"gamma_min\": gamma_min,\n",
    "    \"gamma_max\": gamma_max,\n",
    "}\n",
    "spectrum_dict = {\"type\": \"BrokenPowerLaw\", \"parameters\": parameters}\n",
    "blob = Blob(R_b, z, delta_D, Gamma_jet, B, k_e, spectrum_dict, spectrum_norm_type=\"differential\")\n",
    "blob.set_gamma_size(200)\n",
    "print(blob)\n",
    "\n",
    "dt = RingDustTorus(L_disk, xi_dt, T_dt, R_dt=R_dt)\n",
    "print(dt)\n",
    "nu1 = np.logspace(9, 30,100) * u.Hz\n",
    "ec_dt = ExternalCompton(blob, dt, r)\n",
    "# compute the SEDs\n",
    "ec_dt_sed = ec_dt.sed_flux(nu1)\n",
    "synch = Synchrotron(blob, ssa=True)\n",
    "# let us compute synchrotron SED\n",
    "synch_sed = synch.sed_flux(nu1) \n",
    "ssc = SynchrotronSelfCompton(blob, synch)\n",
    "ssc_sed = ssc.sed_flux(nu1)\n",
    "\n",
    "total=synch_sed\n",
    "total+=ssc_sed\n",
    "total+=ec_dt_sed"
   ]
  },
  {
   "cell_type": "code",
   "execution_count": 13,
   "metadata": {},
   "outputs": [
    {
     "data": {
      "image/png": "[encoded data removed]",
      "text/plain": [
       "<Figure size 432x288 with 1 Axes>"
      ]
     },
     "metadata": {
      "needs_background": "light"
     },
     "output_type": "display_data"
    },
    {
     "name": "stdout",
     "output_type": "stream",
     "text": [
      "t_var =  0.5351428985305117 d\n"
     ]
    }
   ],
   "source": [
    "# showing of disk SED is still buggy\n",
    "#disk = SSDisk(M_BH = 1.e9*M_sun, R_in=6, R_out=200, eta=1/12, L_disk=L_disk, R_g_units = True)\n",
    "#disk_sed = disk.sed_flux(nu1, z)\n",
    "\n",
    "dt_sed = dt.sed_flux(nu1, 1)\n",
    "plt.errorbar(sed.x, sed.y, yerr=sed.staterror, marker=\"o\", ls=\"\", color=\"k\")\n",
    "plt.plot(nu1, ec_dt_sed, ls=\"-\", label='EC')\n",
    "plt.plot(nu1, synch_sed, ls=\"-\", label='synch')\n",
    "plt.plot(nu1, ssc_sed, ls=\"-\", label='SSC')\n",
    "#plt.plot(nu1, disk_sed, ls=\"-\", label='disk')\n",
    "plt.plot(nu1, dt_sed, ls=\"-\", label='DT')\n",
    "plt.plot(nu1, total, ls=\"-\", label='total')\n",
    "\n",
    "plt.xscale(\"log\")\n",
    "plt.yscale(\"log\")\n",
    "plt.ylim(1e-13, 2e-9)\n",
    "plt.legend()\n",
    "plt.show()\n",
    "\n",
    "t_var = R_b/(delta_D*c)\n",
    "print (\"t_var = \", t_var.to(\"day\"))"
   ]
  },
  {
   "cell_type": "code",
   "execution_count": null,
   "metadata": {},
   "outputs": [],
   "source": []
  }
 ],
 "metadata": {
  "kernelspec": {
   "display_name": "Python 3",
   "language": "python",
   "name": "python3"
  },
  "language_info": {
   "codemirror_mode": {
    "name": "ipython",
    "version": 3
   },
   "file_extension": ".py",
   "mimetype": "text/x-python",
   "name": "python",
   "nbconvert_exporter": "python",
   "pygments_lexer": "ipython3",
   "version": "3.6.9"
  }
 },
 "nbformat": 4,
 "nbformat_minor": 4
}
